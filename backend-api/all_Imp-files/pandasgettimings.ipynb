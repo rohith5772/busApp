{
 "cells": [
  {
   "cell_type": "code",
   "execution_count": 12,
   "metadata": {},
   "outputs": [
    {
     "name": "stdout",
     "output_type": "stream",
     "text": [
      "hi\n"
     ]
    }
   ],
   "source": [
    "import requests\n",
    "from bs4 import BeautifulSoup\n",
    "import pandas as pd\n",
    "\n",
    "url = 'https://www.hyderabadcitybus.in/route-no/1p/'\n",
    "response = requests.get(url)\n",
    "\n",
    "soup = BeautifulSoup(response.text, 'html.parser')\n",
    "\n",
    "tables = soup.find_all('table')\n",
    "\n",
    "dataframes = []\n",
    "\n",
    "for table in tables:\n",
    "    table_rows = table.find_all('tr')\n",
    "    \n",
    "    header = [th.text.strip() for th in table_rows[0].find_all('th')]\n",
    "    data = [[td.text.strip() for td in tr.find_all('td')] for tr in table_rows[1:]]\n",
    "    \n",
    "    df = pd.DataFrame(data, columns=header)\n",
    "    dataframes.append(df)\n",
    "\n",
    "for index, df in enumerate(dataframes):\n",
    "    df.to_csv(f'table_{index}.csv', index=False)\n",
    "print(\"hi\")"
   ]
  }
 ],
 "metadata": {
  "kernelspec": {
   "display_name": "Python 3",
   "language": "python",
   "name": "python3"
  },
  "language_info": {
   "codemirror_mode": {
    "name": "ipython",
    "version": 3
   },
   "file_extension": ".py",
   "mimetype": "text/x-python",
   "name": "python",
   "nbconvert_exporter": "python",
   "pygments_lexer": "ipython3",
   "version": "3.11.1"
  },
  "orig_nbformat": 4,
  "vscode": {
   "interpreter": {
    "hash": "cea3b715dc94bcc79d5839f33b4b663f9be5d76d1e77610e0060999021ef4bf5"
   }
  }
 },
 "nbformat": 4,
 "nbformat_minor": 2
}
