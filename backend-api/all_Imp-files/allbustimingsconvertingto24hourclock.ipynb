{
 "cells": [
  {
   "cell_type": "code",
   "execution_count": null,
   "metadata": {},
   "outputs": [
    {
     "name": "stdout",
     "output_type": "stream",
     "text": [
      "['1' '1E' '1K' ... '591' '592' '593']\n",
      "0               {value: \"1\", label:\"1\"},\n",
      "10      {value: \"1/229\", label:\"1/229\"},\n",
      "6       {value: \"1/94R\", label:\"1/94R\"},\n",
      "213           {value: \"10\", label:\"10\"},\n",
      "605         {value: \"100\", label:\"100\"},\n",
      "                     ...                \n",
      "228           {value: \"9Y\", label:\"9Y\"},\n",
      "209         {value: \"9YF\", label:\"9YF\"},\n",
      "229         {value: \"9YG\", label:\"9YG\"},\n",
      "210         {value: \"9YH\", label:\"9YH\"},\n",
      "230           {value: \"9Z\", label:\"9Z\"},\n",
      "Name: Column1, Length: 1082, dtype: object\n"
     ]
    }
   ],
   "source": []
  },
  {
   "cell_type": "code",
   "execution_count": 66,
   "metadata": {},
   "outputs": [
    {
     "name": "stdout",
     "output_type": "stream",
     "text": [
      "11:12,13:24,15:36,17:48,19:12,20:36,21:37,\n"
     ]
    }
   ],
   "source": [
    "string = \"11:12 AM 1:24 PM 3:36 PM 5:48 PM 7:12 PM 8:36 PM 9:37 PM\"\n",
    "splitstr = string.split(\" \")\n",
    "from datetime import datetime\n",
    "newstr=\"\"\n",
    "for i in range(len(splitstr)-1):\n",
    "    if(splitstr[i+1]=='PM'):\n",
    "        datetime_object = datetime.strptime(splitstr[i], '%H:%M')\n",
    "        currentTime = datetime_object.strftime(\"%H:%M\")\n",
    "        fulltime = str(int(currentTime[:2]) + 12) +\":\"+ currentTime[3:5]\n",
    "        newstr=newstr+fulltime+\",\"\n",
    "    elif (splitstr[i+1]=='AM'):\n",
    "        datetime_object = datetime.strptime(splitstr[i], '%H:%M')\n",
    "        currentTime = datetime_object.strftime(\"%H:%M\")\n",
    "        newstr=newstr+currentTime+\",\"\n",
    "print(newstr)"
   ]
  }
 ],
 "metadata": {
  "kernelspec": {
   "display_name": "Python 3",
   "language": "python",
   "name": "python3"
  },
  "language_info": {
   "codemirror_mode": {
    "name": "ipython",
    "version": 3
   },
   "file_extension": ".py",
   "mimetype": "text/x-python",
   "name": "python",
   "nbconvert_exporter": "python",
   "pygments_lexer": "ipython3",
   "version": "3.11.1"
  },
  "orig_nbformat": 4,
  "vscode": {
   "interpreter": {
    "hash": "cea3b715dc94bcc79d5839f33b4b663f9be5d76d1e77610e0060999021ef4bf5"
   }
  }
 },
 "nbformat": 4,
 "nbformat_minor": 2
}
