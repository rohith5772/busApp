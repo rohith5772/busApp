{
 "cells": [
  {
   "cell_type": "code",
   "execution_count": 46,
   "metadata": {},
   "outputs": [
    {
     "name": "stdout",
     "output_type": "stream",
     "text": [
      "['1' '1E' '1K' ... '591' '592' '593']\n",
      "0               {value: \"1\", label:\"1\"},\n",
      "10      {value: \"1/229\", label:\"1/229\"},\n",
      "6       {value: \"1/94R\", label:\"1/94R\"},\n",
      "213           {value: \"10\", label:\"10\"},\n",
      "605         {value: \"100\", label:\"100\"},\n",
      "                     ...                \n",
      "228           {value: \"9Y\", label:\"9Y\"},\n",
      "209         {value: \"9YF\", label:\"9YF\"},\n",
      "229         {value: \"9YG\", label:\"9YG\"},\n",
      "210         {value: \"9YH\", label:\"9YH\"},\n",
      "230           {value: \"9Z\", label:\"9Z\"},\n",
      "Name: Column1, Length: 1082, dtype: object\n"
     ]
    }
   ],
   "source": [
    "import pandas as pd\n",
    "import csv\n",
    "# Read the CSV file\n",
    "df = pd.read_csv('busApp.csv')\n",
    "\n",
    "# Access the column you want to extract unique values from\n",
    "column_values = df['stop_id']\n",
    "\n",
    "unique_values = column_values.unique()\n",
    "print((unique_values))\n",
    "\n",
    "filename = \"unique_stops.csv\"\n",
    "rows = []\n",
    "# writing to csv file \n",
    "with open(filename, 'w', newline='') as csvfile: \n",
    "    # creating a csv writer object \n",
    "    csvwriter = csv.writer(csvfile) \n",
    "        \n",
    "    # writing the fields \n",
    "    csvwriter.writerow(unique_values) \n",
    "        \n",
    "    # writing the data rows \n",
    "    csvwriter.writerows(rows)\n",
    "\n",
    "# Load the CSV file into a pandas DataFrame\n",
    "df = pd.read_csv(filename)\n",
    "\n",
    "# Transpose the DataFrame\n",
    "df_transposed = df.transpose()\n",
    "\n",
    "# Write the transposed DataFrame to a new CSV file\n",
    "df_transposed.to_csv(filename, header=False)\n",
    "\n",
    "df = pd.read_csv(filename, header=None)\n",
    "\n",
    "# Sort the DataFrame by the first column\n",
    "df_sorted = df.sort_values(0)\n",
    "\n",
    "# Write the sorted DataFrame to a new CSV file\n",
    "df_sorted.to_csv(filename, index=False, header=False)\n",
    "s = '\"'\n",
    "concatenated_string = '    { value:'.join(df_sorted[0])\n",
    "def add_abc(string):\n",
    "    return \" {value: \"+s + string + s+\", label:\" + s+string +s+\"},\"\n",
    "\n",
    "# Apply the function to the column\n",
    "df_sorted['Column1'] = df_sorted[0].apply(add_abc)\n",
    "\n",
    "#print(concatenated_string)\n",
    "print(df_sorted['Column1'])\n",
    "df_sorted.to_csv(filename, index=False, header=False)\n",
    "\n"
   ]
  },
  {
   "cell_type": "code",
   "execution_count": null,
   "metadata": {},
   "outputs": [],
   "source": []
  }
 ],
 "metadata": {
  "kernelspec": {
   "display_name": "Python 3",
   "language": "python",
   "name": "python3"
  },
  "language_info": {
   "codemirror_mode": {
    "name": "ipython",
    "version": 3
   },
   "file_extension": ".py",
   "mimetype": "text/x-python",
   "name": "python",
   "nbconvert_exporter": "python",
   "pygments_lexer": "ipython3",
   "version": "3.11.1"
  },
  "orig_nbformat": 4,
  "vscode": {
   "interpreter": {
    "hash": "cea3b715dc94bcc79d5839f33b4b663f9be5d76d1e77610e0060999021ef4bf5"
   }
  }
 },
 "nbformat": 4,
 "nbformat_minor": 2
}
