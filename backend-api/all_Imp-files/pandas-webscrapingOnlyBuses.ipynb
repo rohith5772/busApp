{
 "cells": [
  {
   "cell_type": "code",
   "execution_count": 78,
   "metadata": {},
   "outputs": [
    {
     "name": "stdout",
     "output_type": "stream",
     "text": [
      "Data written to bus_routes_new.csv successfully.\n"
     ]
    }
   ],
   "source": [
    "import csv\n",
    "import requests\n",
    "from bs4 import BeautifulSoup\n",
    "\n",
    "url = \"http://www.hyderabadbusroutes.in/show-buses/all/page/42\"\n",
    "\n",
    "# Send a GET request to the URL\n",
    "response = requests.get(url)\n",
    "\n",
    "# Check if the request was successful\n",
    "if response.status_code == 200:\n",
    "    # Parse the HTML content using BeautifulSoup\n",
    "    soup = BeautifulSoup(response.content, \"html.parser\")\n",
    "\n",
    "    # Find the table containing the bus routes\n",
    "    table = soup.find(\"table\")\n",
    "\n",
    "    if table is not None:\n",
    "        # Extract the bus route information from the table\n",
    "        bus_routes = []\n",
    "        rows = table.find_all(\"tr\")\n",
    "        for row in rows[2:50]:  # Skip the header row and last two rows\n",
    "            columns = row.find_all(\"td\")\n",
    "            bus_number = columns[0].text.strip()\n",
    "            source = columns[1].text.strip()\n",
    "            #destination = columns[2].text.strip()\n",
    "            bus_routes.append((bus_number, source, destination))\n",
    "\n",
    "        # Write the extracted bus routes to a CSV file\n",
    "        filename = \"bus_routes_new.csv\"\n",
    "        with open(filename, \"w\", newline=\"\") as csvfile:\n",
    "            writer = csv.writer(csvfile)\n",
    "            writer.writerow([\"Bus Number\", \"Source\", \"Destination\"])\n",
    "            writer.writerows(bus_routes)\n",
    "\n",
    "        print(f\"Data written to {filename} successfully.\")\n",
    "    else:\n",
    "        print(\"Table not found on the page\")\n",
    "\n",
    "else:\n",
    "    print(\"Failed to retrieve the page\")\n"
   ]
  }
 ],
 "metadata": {
  "kernelspec": {
   "display_name": "Python 3",
   "language": "python",
   "name": "python3"
  },
  "language_info": {
   "codemirror_mode": {
    "name": "ipython",
    "version": 3
   },
   "file_extension": ".py",
   "mimetype": "text/x-python",
   "name": "python",
   "nbconvert_exporter": "python",
   "pygments_lexer": "ipython3",
   "version": "3.11.1"
  },
  "orig_nbformat": 4,
  "vscode": {
   "interpreter": {
    "hash": "cea3b715dc94bcc79d5839f33b4b663f9be5d76d1e77610e0060999021ef4bf5"
   }
  }
 },
 "nbformat": 4,
 "nbformat_minor": 2
}
